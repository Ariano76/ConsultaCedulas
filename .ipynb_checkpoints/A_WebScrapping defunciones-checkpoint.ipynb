{
 "cells": [
  {
   "cell_type": "code",
   "execution_count": 1,
   "metadata": {},
   "outputs": [],
   "source": [
    "from selenium import webdriver\n",
    "from selenium.webdriver.common.by import By\n",
    "from selenium.webdriver.common.keys import Keys\n",
    "from selenium.webdriver.support.select import Select\n",
    "\n",
    "import pandas as pd\n",
    "from tabulate import tabulate\n",
    "import os\n",
    "import requests\n",
    "import datetime\n",
    "\n",
    "import shutil\n",
    "import time\n"
   ]
  },
  {
   "cell_type": "code",
   "execution_count": 2,
   "metadata": {},
   "outputs": [],
   "source": [
    "def page_is_loading(driver):\n",
    "    while True:\n",
    "        x = driver.execute_script(\"return document.readyState\")\n",
    "        if x == \"complete\":\n",
    "            return True\n",
    "        else:\n",
    "            return False"
   ]
  },
  {
   "cell_type": "code",
   "execution_count": 3,
   "metadata": {},
   "outputs": [],
   "source": [
    "def apply_soup(dominio):\n",
    "    url = dominio\n",
    "    soupDriver = None\n",
    "    driver = webdriver.Chrome()\n",
    "    #driver.implicitly_wait(5)    \n",
    "    driver.get(url)\n",
    "    time.sleep(1)     \n",
    "    #driver.maximize_window();    \n",
    "    maximo = driver.execute_script(\"return document.body.scrollHeight\")\n",
    "    parcial = 400\n",
    "    while parcial < maximo:\n",
    "        posicion = \"window.scrollTo(0,\"+str(parcial)+\")\"\n",
    "        driver.execute_script(posicion)        \n",
    "        while not page_is_loading(driver):\n",
    "            continue\n",
    "\n",
    "        maximo = driver.execute_script(\"return document.body.scrollHeight\")\n",
    "        parcial = parcial + 650 \n",
    "                            \n",
    "    return driver"
   ]
  },
  {
   "cell_type": "code",
   "execution_count": null,
   "metadata": {},
   "outputs": [],
   "source": []
  },
  {
   "cell_type": "markdown",
   "metadata": {},
   "source": [
    "## Obtener las cedulas a procesar"
   ]
  },
  {
   "cell_type": "code",
   "execution_count": 4,
   "metadata": {
    "scrolled": true
   },
   "outputs": [
    {
     "data": {
      "text/html": [
       "<div>\n",
       "<style scoped>\n",
       "    .dataframe tbody tr th:only-of-type {\n",
       "        vertical-align: middle;\n",
       "    }\n",
       "\n",
       "    .dataframe tbody tr th {\n",
       "        vertical-align: top;\n",
       "    }\n",
       "\n",
       "    .dataframe thead th {\n",
       "        text-align: right;\n",
       "    }\n",
       "</style>\n",
       "<table border=\"1\" class=\"dataframe\">\n",
       "  <thead>\n",
       "    <tr style=\"text-align: right;\">\n",
       "      <th></th>\n",
       "      <th>Cedula</th>\n",
       "    </tr>\n",
       "  </thead>\n",
       "  <tbody>\n",
       "    <tr>\n",
       "      <th>0</th>\n",
       "      <td>23251792</td>\n",
       "    </tr>\n",
       "    <tr>\n",
       "      <th>1</th>\n",
       "      <td>23253303</td>\n",
       "    </tr>\n",
       "    <tr>\n",
       "      <th>2</th>\n",
       "      <td>23433016</td>\n",
       "    </tr>\n",
       "    <tr>\n",
       "      <th>3</th>\n",
       "      <td>4414169</td>\n",
       "    </tr>\n",
       "    <tr>\n",
       "      <th>4</th>\n",
       "      <td>9859830</td>\n",
       "    </tr>\n",
       "  </tbody>\n",
       "</table>\n",
       "</div>"
      ],
      "text/plain": [
       "     Cedula\n",
       "0  23251792\n",
       "1  23253303\n",
       "2  23433016\n",
       "3   4414169\n",
       "4   9859830"
      ]
     },
     "execution_count": 4,
     "metadata": {},
     "output_type": "execute_result"
    }
   ],
   "source": [
    "# lEER DATOS DESDE EXCEL\n",
    "ipath = 'Cedulas a consultar CO.xlsx'\n",
    "dfCedulas = pd.read_excel(ipath)\n",
    "dfCedulas.head()\n"
   ]
  },
  {
   "cell_type": "code",
   "execution_count": 5,
   "metadata": {
    "scrolled": true
   },
   "outputs": [
    {
     "name": "stdout",
     "output_type": "stream",
     "text": [
      "0 - 23251792\n",
      "1 - 23253303\n",
      "2 - 23433016\n",
      "3 - 4414169\n",
      "4 - 9859830\n",
      "5 - 1054769856\n",
      "6 - 1054857825\n",
      "7 - 1055750262\n",
      "8 - 1058819793\n",
      "9 - 1058845841\n",
      "10 - 1060651149\n",
      "11 - 1060652235\n",
      "12 - 1060654474\n",
      "13 - 1060654586\n",
      "14 - 1070919081\n",
      "15 - 1084037531\n",
      "16 - 1085308364\n",
      "17 - 1087049041\n",
      "18 - 1088332181\n",
      "19 - 1089720081\n",
      "20 - 1091681318\n",
      "21 - 1093229202\n",
      "22 - 1109294164\n",
      "23 - 1110489453\n",
      "24 - 1110529183\n",
      "25 - 1112790777\n",
      "26 - 1115086181\n",
      "27 - 1124860764\n",
      "28 - 1127772276\n",
      "29 - 1136889150\n",
      "30 - 1152693247\n",
      "31 - 1193103447\n",
      "32 - 1193412321\n",
      "33 - 1193524007\n",
      "34 - 1225089344\n"
     ]
    }
   ],
   "source": [
    "for indice_fila, fila in dfCedulas.iterrows():\n",
    "    print(str(indice_fila) + \" - \" + str(fila['Cedula']))"
   ]
  },
  {
   "cell_type": "markdown",
   "metadata": {},
   "source": [
    "# Obtener el estado de las cedulas"
   ]
  },
  {
   "cell_type": "code",
   "execution_count": 6,
   "metadata": {
    "scrolled": true
   },
   "outputs": [
    {
     "name": "stdout",
     "output_type": "stream",
     "text": [
      "Fecha y hora Inicio : Tue May 14 14:31:43 2024\n",
      "0 - 14/05/2024 - 23251792 - Cancelada por Muerte\n",
      "1 - 14/05/2024 - 23253303 - Vigente (Vivo)\n",
      "2 - 14/05/2024 - 23433016 - Vigente (Vivo)\n",
      "3 - 14/05/2024 - 4414169 - Vigente (Vivo)\n",
      "4 - 14/05/2024 - 9859830 - Vigente (Vivo)\n",
      "5 - 14/05/2024 - 1054769856 - no existe en el archivo nacional de identificación\n",
      "6 - 14/05/2024 - 1054857825 - Vigente (Vivo)\n",
      "7 - 14/05/2024 - 1055750262 - Vigente (Vivo)\n",
      "8 - 14/05/2024 - 1058819793 - Vigente (Vivo)\n",
      "9 - 14/05/2024 - 1058845841 - Vigente (Vivo)\n",
      "10 - 14/05/2024 - 1060651149 - Vigente (Vivo)\n",
      "11 - 14/05/2024 - 1060652235 - Vigente (Vivo)\n",
      "12 - 14/05/2024 - 1060654474 - Vigente (Vivo)\n",
      "13 - 14/05/2024 - 1060654586 - Vigente (Vivo)\n",
      "14 - 14/05/2024 - 1070919081 - Vigente (Vivo)\n",
      "15 - 14/05/2024 - 1084037531 - no existe en el archivo nacional de identificación\n",
      "16 - 14/05/2024 - 1085308364 - Vigente (Vivo)\n",
      "17 - 14/05/2024 - 1087049041 - Vigente (Vivo)\n",
      "18 - 14/05/2024 - 1088332181 - Vigente (Vivo)\n",
      "19 - 14/05/2024 - 1089720081 - Vigente (Vivo)\n",
      "20 - 14/05/2024 - 1091681318 - Vigente (Vivo)\n",
      "21 - 14/05/2024 - 1093229202 - Vigente (Vivo)\n",
      "22 - 14/05/2024 - 1109294164 - Vigente (Vivo)\n",
      "23 - 14/05/2024 - 1110489453 - Vigente (Vivo)\n",
      "24 - 14/05/2024 - 1110529183 - Vigente (Vivo)\n",
      "25 - 14/05/2024 - 1112790777 - Vigente (Vivo)\n",
      "26 - 14/05/2024 - 1115086181 - Vigente (Vivo)\n",
      "27 - 14/05/2024 - 1124860764 - Vigente (Vivo)\n",
      "28 - 14/05/2024 - 1127772276 - Vigente (Vivo)\n",
      "29 - 14/05/2024 - 1136889150 - Vigente (Vivo)\n",
      "30 - 14/05/2024 - 1152693247 - Vigente (Vivo)\n",
      "31 - 14/05/2024 - 1193103447 - Vigente (Vivo)\n",
      "32 - 14/05/2024 - 1193412321 - Vigente (Vivo)\n",
      "33 - 14/05/2024 - 1193524007 - Vigente (Vivo)\n",
      "34 - 14/05/2024 - 1225089344 - Vigente (Vivo)\n",
      "El tiempo transcurrido fue de:  0:00:50.799047\n"
     ]
    }
   ],
   "source": [
    "xDate = datetime.datetime.now()\n",
    "indice = 0 #counter \n",
    "datalist = []\n",
    "## representacion de fecha y hora\n",
    "inicio = datetime.datetime.now()\n",
    "ahora = time.strftime(\"%c\")\n",
    "print(\"Fecha y hora Inicio : \" + time.strftime(\"%c\"))\n",
    "dominio = 'https://defunciones.registraduria.gov.co/'\n",
    "soupDriver = apply_soup(dominio)\n",
    "\n",
    "for indice_fila, fila in dfCedulas.iterrows():\n",
    "    result={}\n",
    "    cedula = fila['Cedula']      \n",
    "    soupDriver.find_element(By.NAME, \"nuip\").send_keys(str(cedula) + Keys.RETURN)\n",
    "    time.sleep(1)\n",
    "    fecha = soupDriver.find_element(By.XPATH, '/html/body/app-root/section/div[2]/div/div/div/div/h5').text\n",
    "    cedulaResp = soupDriver.find_element(By.XPATH, '/html/body/app-root/section/div[2]/div/div/div/div/p/span[1]').text\n",
    "    \n",
    "    try:\n",
    "        estado = soupDriver.find_element(By.XPATH, '/html/body/app-root/section/div[2]/div/div/div/div/p/span[2]').text\n",
    "    except Exception as e:\n",
    "        estado = \"no existe en el archivo nacional de identificación\"\n",
    "    fecha = fecha.replace(\"Fecha Consulta: \",\"\")\n",
    "    result[\"fecha_consulta\"] = fecha\n",
    "    result[\"cedula_Resp\"] = cedulaResp\n",
    "    result[\"estado\"] = estado\n",
    "    datalist.append(result)\n",
    "    print(str(indice) + \" - \" + result[\"fecha_consulta\"] + \" - \" + result[\"cedula_Resp\"] + \" - \" + result[\"estado\"] )\n",
    "    indice += 1 \n",
    "\n",
    "soupDriver.quit()\n",
    "df=pd.DataFrame(datalist)\n",
    "\n",
    "formato = \"%d-%m-%Y\"    \n",
    "writer = pd.ExcelWriter('Registraduría Nacional_CO'+'_'+xDate.strftime(formato) + '.xlsx')\n",
    "df.to_excel(writer,'Resultado')\n",
    "writer.close()\n",
    "    \n",
    "fin = datetime.datetime.now()\n",
    "print (\"El tiempo transcurrido fue de: \", fin - inicio)\n"
   ]
  },
  {
   "cell_type": "code",
   "execution_count": null,
   "metadata": {},
   "outputs": [],
   "source": []
  },
  {
   "cell_type": "code",
   "execution_count": null,
   "metadata": {},
   "outputs": [],
   "source": []
  },
  {
   "cell_type": "code",
   "execution_count": null,
   "metadata": {},
   "outputs": [],
   "source": []
  },
  {
   "cell_type": "code",
   "execution_count": null,
   "metadata": {},
   "outputs": [],
   "source": []
  },
  {
   "cell_type": "code",
   "execution_count": null,
   "metadata": {},
   "outputs": [],
   "source": []
  },
  {
   "cell_type": "code",
   "execution_count": null,
   "metadata": {},
   "outputs": [],
   "source": []
  },
  {
   "cell_type": "code",
   "execution_count": null,
   "metadata": {},
   "outputs": [],
   "source": []
  }
 ],
 "metadata": {
  "kernelspec": {
   "display_name": "scraping",
   "language": "python",
   "name": "scraping"
  },
  "language_info": {
   "codemirror_mode": {
    "name": "ipython",
    "version": 3
   },
   "file_extension": ".py",
   "mimetype": "text/x-python",
   "name": "python",
   "nbconvert_exporter": "python",
   "pygments_lexer": "ipython3",
   "version": "3.8.19"
  }
 },
 "nbformat": 4,
 "nbformat_minor": 4
}
